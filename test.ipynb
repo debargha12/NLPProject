{
 "cells": [
  {
   "cell_type": "code",
   "execution_count": 1,
   "metadata": {},
   "outputs": [],
   "source": [
    "import sys\n",
    "import pandas as pd\n",
    "import seaborn as sns\n",
    "import matplotlib.pyplot as plt\n",
    "import re\n",
    "#get_ipython().run_line_magic('matplotlib', 'inline')\n",
    "import re\n",
    "import matplotlib\n",
    "import numpy as np\n",
    "import matplotlib.pyplot as plt\n",
    "import pandas as pd\n",
    "from sklearn.model_selection import train_test_split\n",
    "from sklearn.feature_extraction.text import TfidfVectorizer\n",
    "from sklearn.naive_bayes import MultinomialNB\n",
    "from sklearn.metrics import accuracy_score\n",
    "from sklearn.multiclass import OneVsRestClassifier\n",
    "from nltk.corpus import stopwords\n",
    "stop_words = set(stopwords.words('english'))\n",
    "from sklearn.svm import LinearSVC\n",
    "from sklearn.linear_model import LogisticRegression\n",
    "from sklearn.pipeline import Pipeline\n",
    "import seaborn as sns\n",
    "import pickle"
   ]
  },
  {
   "cell_type": "code",
   "execution_count": 2,
   "metadata": {},
   "outputs": [
    {
     "name": "stdout",
     "output_type": "stream",
     "text": [
      "Data loaded to the dataframe\n"
     ]
    }
   ],
   "source": [
    "f = open('nlp_train.json') \n",
    "import pandas as pd\n",
    "import json\n",
    "data = json.load(f) \n",
    "\n",
    "    # Iterating through the json \n",
    "    # list \n",
    "    #print(data[\"fkrr36o\"][\"emotion\"])\n",
    "f.close() \n",
    "fl=[]\n",
    "    #print(data[\"fkrr36o\"])\n",
    "for u,v in data.items():\n",
    "    l=[]\n",
    "    l.append(u)\n",
    "    l.append(v[\"body\"])\n",
    "    l.append(1 if v[\"emotion\"][\"anger\"]==True else 0)\n",
    "    l.append(1 if v[\"emotion\"][\"anticipation\"]==True else 0)\n",
    "    l.append(1 if v[\"emotion\"][\"disgust\"]==True else 0)\n",
    "    l.append(1 if v[\"emotion\"][\"fear\"]==True else 0)\n",
    "    l.append(1 if v[\"emotion\"][\"joy\"]==True else 0)\n",
    "    l.append(1 if v[\"emotion\"][\"love\"]==True else 0)\n",
    "    l.append(1 if v[\"emotion\"][\"optimism\"]==True else 0)\n",
    "    l.append(1 if v[\"emotion\"][\"pessimism\"]==True else 0)\n",
    "    l.append(1 if v[\"emotion\"][\"sadness\"]==True else 0)\n",
    "    l.append(1 if v[\"emotion\"][\"surprise\"]==True else 0)\n",
    "    l.append(1 if v[\"emotion\"][\"trust\"]==True else 0)\n",
    "    l.append(1 if v[\"emotion\"][\"neutral\"]==True else 0)\n",
    "    fl.append(l)\n",
    "\n",
    "df = pd.DataFrame(fl, columns=[\"id\",\"body\",\"anger\",\"anticipation\",\"disgust\",\"fear\",\"joy\",\"love\",\"optimism\",\"pessimism\",\"sadness\",\"surprise\",\"trust\",\"neutral\"])\n",
    "df.to_pickle(\"./dataframetest.pkl\")\n",
    "print(\"Data loaded to the dataframe\")"
   ]
  },
  {
   "cell_type": "code",
   "execution_count": 3,
   "metadata": {},
   "outputs": [],
   "source": [
    "df = pd.read_pickle(\"./dataframetest.pkl\")\n",
    "from nltk.tokenize import sent_tokenize, word_tokenize\n",
    "from nltk.stem import PorterStemmer\n",
    "porter = PorterStemmer()\n",
    "def stemSentence(sentence):\n",
    "    token_words=word_tokenize(sentence)\n",
    "    token_words\n",
    "    stem_sentence=[]\n",
    "    for word in token_words:\n",
    "        stem_sentence.append(porter.stem(word))\n",
    "        stem_sentence.append(\" \")\n",
    "    return \"\".join(stem_sentence)\n"
   ]
  },
  {
   "cell_type": "code",
   "execution_count": 4,
   "metadata": {},
   "outputs": [],
   "source": [
    "def clean(data):\n",
    "    data = data.lower()\n",
    "    data = re.sub('<[^<]+?>', '', data)\n",
    "    data=re.sub('[!#?,.:\";]', '', data)\n",
    "    data=re.sub(r'[0-9]+', '', data)\n",
    "    data= re.sub(\"i'm\",\"i am\",data)\n",
    "    data = stemSentence(data)\n",
    "    return data\n"
   ]
  },
  {
   "cell_type": "code",
   "execution_count": 5,
   "metadata": {},
   "outputs": [
    {
     "name": "stdout",
     "output_type": "stream",
     "text": [
      "Preprocessing started\n",
      "Preprocessing completed\n"
     ]
    }
   ],
   "source": [
    "print(\"Preprocessing started\")\n",
    "df['body'] = df['body'].map(lambda x : clean(x))\n",
    "print(\"Preprocessing completed\")\n"
   ]
  },
  {
   "cell_type": "code",
   "execution_count": 6,
   "metadata": {},
   "outputs": [
    {
     "name": "stdout",
     "output_type": "stream",
     "text": [
      "Number of datapoints:  1493\n"
     ]
    }
   ],
   "source": [
    "from sklearn.feature_extraction.text import CountVectorizer\n",
    "\n",
    "emotions = [\"anger\",\"anticipation\",\"disgust\",\"fear\",\"joy\",\"love\",\"optimism\",\"pessimism\",\"sadness\",\"surprise\",\"trust\",\"neutral\"]\n",
    "X_test= df['body']\n",
    "\n",
    "print(\"Number of datapoints: \",X_test.shape[0])"
   ]
  },
  {
   "cell_type": "code",
   "execution_count": 8,
   "metadata": {},
   "outputs": [
    {
     "name": "stdout",
     "output_type": "stream",
     "text": [
      "Loading model\n",
      "Test accuracy of :anger\n",
      "0.550569323509712\n",
      "Test accuracy of :anticipation\n",
      "0.4146014735432016\n",
      "Test accuracy of :disgust\n",
      "0.4608171466845278\n",
      "Test accuracy of :fear\n",
      "0.4608171466845278\n",
      "Test accuracy of :joy\n",
      "0.7910247823174816\n",
      "Test accuracy of :love\n",
      "0.8211654387139986\n",
      "Test accuracy of :optimism\n",
      "0.5894172806430007\n",
      "Test accuracy of :pessimism\n",
      "0.4822505023442733\n",
      "Test accuracy of :sadness\n",
      "0.6363027461486939\n",
      "Test accuracy of :surprise\n",
      "0.8050904219691896\n",
      "Test accuracy of :trust\n",
      "0.7454789015405224\n",
      "Test accuracy of :neutral\n",
      "0.9651707970529136\n"
     ]
    }
   ],
   "source": [
    "print(\"Loading model\")\n",
    "with open(\"pickle_model.pkl\", 'rb') as file:\n",
    "    pickle_model = pickle.load(file)\n",
    "    \n",
    "\n",
    "for emotion in emotions:\n",
    "    prediction = pickle_model.predict(X_test)\n",
    "    print('Test accuracy of :'+emotion)\n",
    "    print(accuracy_score(df[emotion], prediction))"
   ]
  },
  {
   "cell_type": "code",
   "execution_count": null,
   "metadata": {},
   "outputs": [],
   "source": []
  },
  {
   "cell_type": "code",
   "execution_count": null,
   "metadata": {},
   "outputs": [],
   "source": []
  }
 ],
 "metadata": {
  "kernelspec": {
   "display_name": "Python 3.6 (tensorflow)",
   "language": "python",
   "name": "tensorflow"
  },
  "language_info": {
   "codemirror_mode": {
    "name": "ipython",
    "version": 3
   },
   "file_extension": ".py",
   "mimetype": "text/x-python",
   "name": "python",
   "nbconvert_exporter": "python",
   "pygments_lexer": "ipython3",
   "version": "3.6.8"
  }
 },
 "nbformat": 4,
 "nbformat_minor": 2
}
