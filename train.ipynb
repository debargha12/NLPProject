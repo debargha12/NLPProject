{
 "cells": [
  {
   "cell_type": "code",
   "execution_count": 1,
   "metadata": {},
   "outputs": [],
   "source": [
    "import sys\n",
    "import pandas as pd\n",
    "import seaborn as sns\n",
    "import matplotlib.pyplot as plt\n",
    "import re\n",
    "#get_ipython().run_line_magic('matplotlib', 'inline')\n",
    "import re\n",
    "import matplotlib\n",
    "import numpy as np\n",
    "import matplotlib.pyplot as plt\n",
    "import pandas as pd\n",
    "from sklearn.model_selection import train_test_split\n",
    "from sklearn.feature_extraction.text import TfidfVectorizer\n",
    "from sklearn.naive_bayes import MultinomialNB\n",
    "from sklearn.metrics import accuracy_score\n",
    "from sklearn.multiclass import OneVsRestClassifier\n",
    "from nltk.corpus import stopwords\n",
    "stop_words = set(stopwords.words('english'))\n",
    "from sklearn.svm import LinearSVC\n",
    "from sklearn.linear_model import LogisticRegression\n",
    "from sklearn.linear_model import PassiveAggressiveClassifier\n",
    "from sklearn.pipeline import Pipeline\n",
    "import seaborn as sns\n",
    "import pickle"
   ]
  },
  {
   "cell_type": "code",
   "execution_count": 2,
   "metadata": {},
   "outputs": [
    {
     "name": "stdout",
     "output_type": "stream",
     "text": [
      "Data loaded to the dataframe\n"
     ]
    }
   ],
   "source": [
    "f = open('nlp_train.json') \n",
    "import pandas as pd\n",
    "import json\n",
    "data = json.load(f) \n",
    "\n",
    "    # Iterating through the json \n",
    "    # list \n",
    "    #print(data[\"fkrr36o\"][\"emotion\"])\n",
    "f.close() \n",
    "fl=[]\n",
    "    #print(data[\"fkrr36o\"])\n",
    "for u,v in data.items():\n",
    "    l=[]\n",
    "    l.append(u)\n",
    "    l.append(v[\"body\"])\n",
    "    l.append(1 if v[\"emotion\"][\"anger\"]==True else 0)\n",
    "    l.append(1 if v[\"emotion\"][\"anticipation\"]==True else 0)\n",
    "    l.append(1 if v[\"emotion\"][\"disgust\"]==True else 0)\n",
    "    l.append(1 if v[\"emotion\"][\"fear\"]==True else 0)\n",
    "    l.append(1 if v[\"emotion\"][\"joy\"]==True else 0)\n",
    "    l.append(1 if v[\"emotion\"][\"love\"]==True else 0)\n",
    "    l.append(1 if v[\"emotion\"][\"optimism\"]==True else 0)\n",
    "    l.append(1 if v[\"emotion\"][\"pessimism\"]==True else 0)\n",
    "    l.append(1 if v[\"emotion\"][\"sadness\"]==True else 0)\n",
    "    l.append(1 if v[\"emotion\"][\"surprise\"]==True else 0)\n",
    "    l.append(1 if v[\"emotion\"][\"trust\"]==True else 0)\n",
    "    l.append(1 if v[\"emotion\"][\"neutral\"]==True else 0)\n",
    "    fl.append(l)\n",
    "\n",
    "df = pd.DataFrame(fl, columns=[\"id\",\"body\",\"anger\",\"anticipation\",\"disgust\",\"fear\",\"joy\",\"love\",\"optimism\",\"pessimism\",\"sadness\",\"surprise\",\"trust\",\"neutral\"])\n",
    "df.to_pickle(\"./dataframe.pkl\")\n",
    "print(\"Data loaded to the dataframe\")"
   ]
  },
  {
   "cell_type": "code",
   "execution_count": 3,
   "metadata": {},
   "outputs": [],
   "source": [
    "df = pd.read_pickle(\"./dataframe.pkl\")\n",
    "from nltk.tokenize import sent_tokenize, word_tokenize\n",
    "from nltk.stem import PorterStemmer\n",
    "porter = PorterStemmer()\n",
    "def stemSentence(sentence):\n",
    "    token_words=word_tokenize(sentence)\n",
    "    token_words\n",
    "    stem_sentence=[]\n",
    "    for word in token_words:\n",
    "        stem_sentence.append(porter.stem(word))\n",
    "        stem_sentence.append(\" \")\n",
    "    return \"\".join(stem_sentence)\n"
   ]
  },
  {
   "cell_type": "code",
   "execution_count": null,
   "metadata": {},
   "outputs": [],
   "source": []
  },
  {
   "cell_type": "code",
   "execution_count": null,
   "metadata": {},
   "outputs": [],
   "source": []
  },
  {
   "cell_type": "code",
   "execution_count": null,
   "metadata": {},
   "outputs": [],
   "source": []
  },
  {
   "cell_type": "code",
   "execution_count": 4,
   "metadata": {},
   "outputs": [],
   "source": [
    "def clean(data):\n",
    "    data = data.lower()\n",
    "    data = re.sub('<[^<]+?>', '', data)\n",
    "    data=re.sub('[!#?,.:\";]', '', data)\n",
    "    data=re.sub(r'[0-9]+', '', data)\n",
    "    data= re.sub(\"i'm\",\"i am\",data)\n",
    "    data = stemSentence(data)\n",
    "    return data"
   ]
  },
  {
   "cell_type": "code",
   "execution_count": 5,
   "metadata": {},
   "outputs": [
    {
     "name": "stdout",
     "output_type": "stream",
     "text": [
      "Preprocessing started\n",
      "Preprocessing completed\n"
     ]
    }
   ],
   "source": [
    "print(\"Preprocessing started\")\n",
    "df['body'] = df['body'].map(lambda x : clean(x))\n",
    "print(\"Preprocessing completed\")\n"
   ]
  },
  {
   "cell_type": "code",
   "execution_count": 6,
   "metadata": {},
   "outputs": [
    {
     "name": "stdout",
     "output_type": "stream",
     "text": [
      "(1119,)\n",
      "(374,)\n"
     ]
    }
   ],
   "source": [
    "\n",
    "\n",
    "emotions = [\"anger\",\"anticipation\",\"disgust\",\"fear\",\"joy\",\"love\",\"optimism\",\"pessimism\",\"sadness\",\"surprise\",\"trust\",\"neutral\"]\n",
    "train, test = train_test_split(df, random_state=40, test_size=0.25, shuffle=True)\n",
    "\n",
    "X_train= train['body']\n",
    "X_test= test['body']\n",
    "print(X_train.shape)\n",
    "print(X_test.shape)"
   ]
  },
  {
   "cell_type": "code",
   "execution_count": 17,
   "metadata": {},
   "outputs": [
    {
     "name": "stdout",
     "output_type": "stream",
     "text": [
      "Test accuracy of :anger\n",
      "0.6737967914438503\n",
      "Test accuracy of :anticipation\n",
      "0.5588235294117647\n",
      "Test accuracy of :disgust\n",
      "0.7406417112299465\n",
      "Test accuracy of :fear\n",
      "0.6818181818181818\n",
      "Test accuracy of :joy\n",
      "0.8609625668449198\n",
      "Test accuracy of :love\n",
      "0.9090909090909091\n",
      "Test accuracy of :optimism\n",
      "0.6149732620320856\n",
      "Test accuracy of :pessimism\n",
      "0.6684491978609626\n",
      "Test accuracy of :sadness\n",
      "0.7165775401069518\n",
      "Test accuracy of :surprise\n",
      "0.8877005347593583\n",
      "Test accuracy of :trust\n",
      "0.8342245989304813\n",
      "Test accuracy of :neutral\n",
      "0.8689839572192514\n"
     ]
    }
   ],
   "source": [
    "NB= Pipeline([('tfidf', TfidfVectorizer(stop_words=stop_words)),('clf', OneVsRestClassifier(MultinomialNB(fit_prior=True, class_prior=None))),])\n",
    "for emotion in emotions:\n",
    "    NB.fit(X_train, train[emotion])\n",
    "    prediction = NB.predict(X_test)\n",
    "    print('Test accuracy of :'+emotion)\n",
    "    print(accuracy_score(test[emotion], prediction))\n"
   ]
  },
  {
   "cell_type": "code",
   "execution_count": 19,
   "metadata": {},
   "outputs": [
    {
     "name": "stdout",
     "output_type": "stream",
     "text": [
      "Test accuracy of :anger\n",
      "0.7807486631016043\n",
      "Test accuracy of :anticipation\n",
      "0.6470588235294118\n",
      "Test accuracy of :disgust\n",
      "0.7459893048128342\n",
      "Test accuracy of :fear\n",
      "0.7165775401069518\n",
      "Test accuracy of :joy\n",
      "0.8582887700534759\n",
      "Test accuracy of :love\n",
      "0.9037433155080213\n",
      "Test accuracy of :optimism\n",
      "0.7058823529411765\n",
      "Test accuracy of :pessimism\n",
      "0.660427807486631\n",
      "Test accuracy of :sadness\n",
      "0.7433155080213903\n",
      "Test accuracy of :surprise\n",
      "0.8823529411764706\n",
      "Test accuracy of :trust\n",
      "0.839572192513369\n",
      "Test accuracy of :neutral\n",
      "0.8663101604278075\n"
     ]
    }
   ],
   "source": [
    "SVC = Pipeline([('tfidf', TfidfVectorizer(stop_words=stop_words)),('clf', OneVsRestClassifier(LinearSVC(penalty='l2', loss='squared_hinge', dual=True, tol=0.0001, C=1.0, multi_class='ovr', fit_intercept=True, intercept_scaling=1, class_weight=None, verbose=0, random_state=None, max_iter=1000), n_jobs=1)),])\n",
    "for emotion in emotions: \n",
    "    SVC.fit(X_train, train[emotion])\n",
    "    prediction = SVC.predict(X_test)\n",
    "    print('Test accuracy of :'+emotion)\n",
    "    print(accuracy_score(test[emotion], prediction))\n"
   ]
  },
  {
   "cell_type": "code",
   "execution_count": 20,
   "metadata": {},
   "outputs": [
    {
     "name": "stdout",
     "output_type": "stream",
     "text": [
      "Test accuracy of :anger\n",
      "0.7807486631016043\n",
      "Test accuracy of :anticipation\n",
      "0.6149732620320856\n",
      "Test accuracy of :disgust\n",
      "0.7219251336898396\n",
      "Test accuracy of :fear\n",
      "0.6951871657754011\n",
      "Test accuracy of :joy\n",
      "0.8502673796791443\n",
      "Test accuracy of :love\n",
      "0.8957219251336899\n",
      "Test accuracy of :optimism\n",
      "0.6844919786096256\n",
      "Test accuracy of :pessimism\n",
      "0.6443850267379679\n",
      "Test accuracy of :sadness\n",
      "0.7245989304812834\n",
      "Test accuracy of :surprise\n",
      "0.8823529411764706\n",
      "Test accuracy of :trust\n",
      "0.8048128342245989\n",
      "Test accuracy of :neutral\n",
      "0.8582887700534759\n"
     ]
    }
   ],
   "source": [
    "pac = Pipeline([\n",
    "                ('tfidf', TfidfVectorizer(stop_words=stop_words)),\n",
    "                ('clf', OneVsRestClassifier(PassiveAggressiveClassifier(C=1.0, fit_intercept=True, max_iter=1000, tol=0.001, early_stopping=False, validation_fraction=0.1, n_iter_no_change=5, shuffle=True, verbose=0, loss='hinge', n_jobs=None, random_state=None, warm_start=False, class_weight=None, average=False))),\n",
    "            ])\n",
    "\n",
    "for emotion in emotions:\n",
    "    pac.fit(X_train, train[emotion])\n",
    "    prediction = pac.predict(X_test)\n",
    "    print('Test accuracy of :'+emotion)\n",
    "    print(accuracy_score(test[emotion], prediction))"
   ]
  },
  {
   "cell_type": "code",
   "execution_count": 23,
   "metadata": {},
   "outputs": [],
   "source": [
    "import pickle\n",
    "pkl_filename = \"pickle_model.pkl\"\n",
    "with open(pkl_filename, 'wb') as file:\n",
    "    pickle.dump(SVC, file)"
   ]
  },
  {
   "cell_type": "code",
   "execution_count": null,
   "metadata": {},
   "outputs": [],
   "source": []
  },
  {
   "cell_type": "code",
   "execution_count": 12,
   "metadata": {},
   "outputs": [
    {
     "name": "stdout",
     "output_type": "stream",
     "text": [
      "Model Saved\n"
     ]
    }
   ],
   "source": [
    "print(\"Model Saved\")"
   ]
  },
  {
   "cell_type": "code",
   "execution_count": null,
   "metadata": {},
   "outputs": [],
   "source": []
  }
 ],
 "metadata": {
  "kernelspec": {
   "display_name": "Python 3.6 (tensorflow)",
   "language": "python",
   "name": "tensorflow"
  },
  "language_info": {
   "codemirror_mode": {
    "name": "ipython",
    "version": 3
   },
   "file_extension": ".py",
   "mimetype": "text/x-python",
   "name": "python",
   "nbconvert_exporter": "python",
   "pygments_lexer": "ipython3",
   "version": "3.6.8"
  }
 },
 "nbformat": 4,
 "nbformat_minor": 2
}
